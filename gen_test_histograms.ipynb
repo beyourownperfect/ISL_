{
 "cells": [
  {
   "cell_type": "code",
   "execution_count": 1,
   "id": "74f56fd2",
   "metadata": {},
   "outputs": [],
   "source": [
    "# !pip install opencv-contrib-python --user"
   ]
  },
  {
   "cell_type": "code",
   "execution_count": 2,
   "id": "94bac400",
   "metadata": {},
   "outputs": [],
   "source": [
    "import numpy as np\n",
    "import cv2\n",
    "import os\n",
    "import pickle\n",
    "import sys\n",
    "from scipy import ndimage\n",
    "from scipy.spatial import distance\n",
    "from sklearn.cluster import KMeans\n",
    "from sklearn.cluster import MiniBatchKMeans"
   ]
  },
  {
   "cell_type": "code",
   "execution_count": 3,
   "id": "b6eddd93",
   "metadata": {},
   "outputs": [],
   "source": [
    "# Load the trained KMeans model \n",
    "with open('kmeans_model.pkl', 'rb') as f:\n",
    "    kmeans = pickle.load(f)"
   ]
  },
  {
   "cell_type": "code",
   "execution_count": 4,
   "id": "a92984c9",
   "metadata": {},
   "outputs": [],
   "source": [
    "n_classes=36\n",
    "clustering_factor=6\n",
    "\n",
    "\n",
    "def orb_features(images):\n",
    "  orb_vectors_list={}\n",
    "  orb_descriptors_list=[]\n",
    "  orb=cv2.ORB_create()\n",
    "  for key,value in images.items():\n",
    "    print(key, \"Started\")\n",
    "    features=[]\n",
    "    for img in value:\n",
    "      kp,desc=orb.detectAndCompute(img,None)\n",
    "      orb_descriptors_list.extend(desc)\n",
    "      features.append(desc)\n",
    "    orb_vectors_list[key]=features\n",
    "    print(key,\" Completed!\")\n",
    "  return [orb_descriptors_list,orb_vectors_list]"
   ]
  },
  {
   "cell_type": "code",
   "execution_count": 5,
   "id": "38c8e907",
   "metadata": {},
   "outputs": [],
   "source": [
    "# Loading train images into dictionaries which holds all images category by category\n",
    "\n",
    "def load_images_by_category(folder):\n",
    "  images={}\n",
    "  for label in os.listdir(folder):\n",
    "    print(label,\" started\")\n",
    "    category=[]\n",
    "    path=folder+'/'+label\n",
    "    for image in os.listdir(path):\n",
    "      img=cv2.imread(path+'/'+image)\n",
    "      #new_img=cv2.resize(img,(128,128))\n",
    "      if img is not None:\n",
    "        category.append(img)\n",
    "    images[label]=category\n",
    "    print(label, \"ended\")\n",
    "  return images"
   ]
  },
  {
   "cell_type": "code",
   "execution_count": 6,
   "id": "b51d39e7",
   "metadata": {},
   "outputs": [],
   "source": [
    "# Creating histograms for train images\n",
    "\n",
    "# Function takes 2 parameters. The first one is a dictionary that holds the descriptors that are separated class by class \n",
    "# And the second parameter is thekm model\n",
    "# Returns a dictionary that holds the histograms for each images that are separated class by class. \n",
    "\n",
    "def create_histogram(all_bows,kmeans):\n",
    "  features_dict={}\n",
    "  for key,value in all_bows.items():\n",
    "    print(key,\" Started!\")\n",
    "    category=[]\n",
    "    for desc in value:\n",
    "      visual_words=kmeans.predict(desc)\n",
    "      hist = np.array(np.bincount(visual_words,minlength=n_classes*clustering_factor))\n",
    "      category.append(hist)\n",
    "    features_dict[key]=category\n",
    "    print(key,\" Completed!\")\n",
    "  return features_dict\n",
    "\n",
    "# all_test_descriptors = orb_test[0]\n",
    "# kmeans = minibatchkmeans(n_classes*clustering_factor,all_test_descriptors)\n"
   ]
  },
  {
   "cell_type": "code",
   "execution_count": 7,
   "id": "0a40abee",
   "metadata": {},
   "outputs": [],
   "source": [
    "test_folder='C:/Users/Sandeep Roy/Desktop/data2/data/Train-Test/Test'\n",
    "\n",
    "# Loading Test images\n",
    "test_images=load_images_by_category(test_folder)\n",
    "\n",
    "#Extract ORB features from the image\n",
    "orb_test=orb_features(test_images)[1]\n",
    "\n",
    "#print(len(orb_test['a'][0]))\n",
    "\n",
    "# Create histograms from extracted sift features\n",
    "bows_test=create_histogram(orb_test,kmeans)"
   ]
  },
  {
   "cell_type": "code",
   "execution_count": null,
   "id": "7581aef4",
   "metadata": {},
   "outputs": [],
   "source": [
    "import csv\n",
    "loc='C:/Users/Sandeep Roy/Desktop/data2/data/test.csv'\n",
    "with open(loc,'w',newline='') as file:\n",
    "  writer=csv.writer(file)\n",
    "  header=[]\n",
    "  for i in range (1,n_classes*clustering_factor+1):\n",
    "    header.append(str('pixel')+str(i))\n",
    "  header.append('Label')\n",
    "  writer.writerow(header)\n",
    "  count=0\n",
    "  for label in bows_test:\n",
    "    #print(len(bows_test[label]))\n",
    "    for i in range(len(bows_test[label])):\n",
    "      list=[]\n",
    "      for j in range(150):\n",
    "        list.append(bows_test[label][i][j])\n",
    "      list.append(label)\n",
    "      writer.writerow(list)"
   ]
  },
  {
   "cell_type": "code",
   "execution_count": null,
   "id": "c02a2451",
   "metadata": {},
   "outputs": [],
   "source": []
  }
 ],
 "metadata": {
  "kernelspec": {
   "display_name": "Python 3 (ipykernel)",
   "language": "python",
   "name": "python3"
  },
  "language_info": {
   "codemirror_mode": {
    "name": "ipython",
    "version": 3
   },
   "file_extension": ".py",
   "mimetype": "text/x-python",
   "name": "python",
   "nbconvert_exporter": "python",
   "pygments_lexer": "ipython3",
   "version": "3.7.1"
  }
 },
 "nbformat": 4,
 "nbformat_minor": 5
}
