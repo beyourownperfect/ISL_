{
 "cells": [
  {
   "cell_type": "code",
   "execution_count": 11,
   "id": "8be597a9",
   "metadata": {},
   "outputs": [],
   "source": [
    "# !pip install playsound\n",
    "# !pip install xlsxwriter\n"
   ]
  },
  {
   "cell_type": "code",
   "execution_count": 6,
   "id": "e101c861",
   "metadata": {},
   "outputs": [
    {
     "ename": "ModuleNotFoundError",
     "evalue": "No module named 'creating_dataset'",
     "output_type": "error",
     "traceback": [
      "\u001b[1;31m---------------------------------------------------------------------------\u001b[0m",
      "\u001b[1;31mModuleNotFoundError\u001b[0m                       Traceback (most recent call last)",
      "\u001b[1;32m~\\AppData\\Local\\Temp\\ipykernel_9972\\2284558081.py\u001b[0m in \u001b[0;36m<module>\u001b[1;34m\u001b[0m\n\u001b[0;32m     15\u001b[0m \u001b[1;32mimport\u001b[0m \u001b[0msys\u001b[0m\u001b[1;33m\u001b[0m\u001b[1;33m\u001b[0m\u001b[0m\n\u001b[0;32m     16\u001b[0m \u001b[1;32mimport\u001b[0m \u001b[0mrandom\u001b[0m\u001b[1;33m\u001b[0m\u001b[1;33m\u001b[0m\u001b[0m\n\u001b[1;32m---> 17\u001b[1;33m \u001b[1;32mfrom\u001b[0m \u001b[0mcreating_dataset\u001b[0m \u001b[1;32mimport\u001b[0m \u001b[0mcd_main\u001b[0m\u001b[1;33m\u001b[0m\u001b[1;33m\u001b[0m\u001b[0m\n\u001b[0m\u001b[0;32m     18\u001b[0m \u001b[1;32mfrom\u001b[0m \u001b[0mPrediction\u001b[0m \u001b[1;32mimport\u001b[0m \u001b[0mpred_main\u001b[0m\u001b[1;33m\u001b[0m\u001b[1;33m\u001b[0m\u001b[0m\n\u001b[0;32m     19\u001b[0m \u001b[1;32mfrom\u001b[0m \u001b[0mdisplay_sign_speech\u001b[0m \u001b[1;32mimport\u001b[0m \u001b[0mrr_main\u001b[0m\u001b[1;33m\u001b[0m\u001b[1;33m\u001b[0m\u001b[0m\n",
      "\u001b[1;31mModuleNotFoundError\u001b[0m: No module named 'creating_dataset'"
     ]
    }
   ],
   "source": [
    "from tkinter import *\n",
    "import pandas as pd\n",
    "import tkinter as tk\n",
    "from playsound import playsound\n",
    "from PIL import Image, ImageTk\n",
    "import numpy as np\n",
    "from tkinter import ttk\n",
    "import sqlite3\n",
    "import cv2\n",
    "from PIL import Image\n",
    "import os\n",
    "import xlsxwriter\n",
    "from datetime import date\n",
    "from tkinter import messagebox\n",
    "import sys\n",
    "import random\n",
    "from creating_dataset import cd_main\n",
    "from Prediction import pred_main\n",
    "from display_sign_speech import rr_main"
   ]
  },
  {
   "cell_type": "code",
   "execution_count": null,
   "id": "346d2c11",
   "metadata": {},
   "outputs": [],
   "source": []
  }
 ],
 "metadata": {
  "kernelspec": {
   "display_name": "Python 3 (ipykernel)",
   "language": "python",
   "name": "python3"
  },
  "language_info": {
   "codemirror_mode": {
    "name": "ipython",
    "version": 3
   },
   "file_extension": ".py",
   "mimetype": "text/x-python",
   "name": "python",
   "nbconvert_exporter": "python",
   "pygments_lexer": "ipython3",
   "version": "3.7.1"
  }
 },
 "nbformat": 4,
 "nbformat_minor": 5
}
