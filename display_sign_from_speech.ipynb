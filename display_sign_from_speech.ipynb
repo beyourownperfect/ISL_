{
 "cells": [
  {
   "cell_type": "code",
   "execution_count": 4,
   "id": "7b60585e",
   "metadata": {},
   "outputs": [
    {
     "name": "stdout",
     "output_type": "stream",
     "text": [
      "Requirement already satisfied: PyAudio in c:\\users\\sandeep roy\\.conda\\envs\\myenv\\lib\\site-packages (0.2.13)\n"
     ]
    }
   ],
   "source": [
    "# !pip install SpeechRecognition\n",
    "# !pip install sk-video\n",
    "!pip install PyAudio"
   ]
  },
  {
   "cell_type": "code",
   "execution_count": 5,
   "id": "464ee8d9",
   "metadata": {},
   "outputs": [],
   "source": [
    "# def rr_main():\n",
    "import speech_recognition as sr\n",
    "import cv2\n",
    "import os\n",
    "import time\n",
    "import imageio as io\n",
    "import matplotlib.pyplot as plt\n",
    "import os\n",
    "import skvideo.io\n",
    "import numpy as np\n",
    "from matplotlib.animation import FuncAnimation\n",
    "import tkinter as tk\n",
    "import imageio\n",
    "from tkinter import messagebox"
   ]
  },
  {
   "cell_type": "code",
   "execution_count": 6,
   "id": "83ef7622",
   "metadata": {},
   "outputs": [
    {
     "name": "stdout",
     "output_type": "stream",
     "text": [
      "result2:\n",
      "[]\n"
     ]
    },
    {
     "ename": "AttributeError",
     "evalue": "'list' object has no attribute 'lower'",
     "output_type": "error",
     "traceback": [
      "\u001b[1;31m---------------------------------------------------------------------------\u001b[0m",
      "\u001b[1;31mAttributeError\u001b[0m                            Traceback (most recent call last)",
      "\u001b[1;32m~\\AppData\\Local\\Temp\\ipykernel_6176\\2726358411.py\u001b[0m in \u001b[0;36m<module>\u001b[1;34m\u001b[0m\n\u001b[0;32m     26\u001b[0m        \u001b[0mmessagebox\u001b[0m\u001b[1;33m.\u001b[0m\u001b[0mshowerror\u001b[0m\u001b[1;33m(\u001b[0m\u001b[1;34m\"error\"\u001b[0m\u001b[1;33m,\u001b[0m\u001b[1;34m\"Your voice is not clear\"\u001b[0m\u001b[1;33m)\u001b[0m\u001b[1;33m\u001b[0m\u001b[1;33m\u001b[0m\u001b[0m\n\u001b[0;32m     27\u001b[0m \u001b[1;33m\u001b[0m\u001b[0m\n\u001b[1;32m---> 28\u001b[1;33m \u001b[0mtext\u001b[0m\u001b[1;33m.\u001b[0m\u001b[0mlower\u001b[0m\u001b[1;33m(\u001b[0m\u001b[1;33m)\u001b[0m\u001b[1;33m\u001b[0m\u001b[1;33m\u001b[0m\u001b[0m\n\u001b[0m\u001b[0;32m     29\u001b[0m \u001b[1;33m\u001b[0m\u001b[0m\n\u001b[0;32m     30\u001b[0m \u001b[1;32mtry\u001b[0m\u001b[1;33m:\u001b[0m\u001b[1;33m\u001b[0m\u001b[1;33m\u001b[0m\u001b[0m\n",
      "\u001b[1;31mAttributeError\u001b[0m: 'list' object has no attribute 'lower'"
     ]
    }
   ],
   "source": [
    " # Function to display images\n",
    "\n",
    "def display(img,title=\"Original\"):\n",
    "    plt.imshow(img,cmap='gray'),plt.title(title)\n",
    "    plt.axis('off')\n",
    "    plt.show(block=False)\n",
    "    plt.pause(2)\n",
    "    plt.close\n",
    "\n",
    "path='C:\\\\Users\\\\Sandeep Roy\\\\Desktop\\\\data2\\\\data\\\\Reverse_sign_images\\\\'\n",
    "voice=sr.Recognizer()\n",
    "text=[]\n",
    "with sr.Microphone() as source:\n",
    "    #top=tk.Tk()\n",
    "    messagebox.showinfo('Info','Speak Now')\n",
    "    #print(\"Speak Now\")\n",
    "    audio=voice.listen(source)\n",
    "    try:\n",
    "        messagebox.showinfo('Info', 'Recognizing...')\n",
    "        #print(\"Recognizing....\")\n",
    "        text=voice.recognize_google(audio)\n",
    "        messagebox.showinfo('Info', 'You said: '+str(text))\n",
    "        #print(\"You Said: \",text)\n",
    "    except:\n",
    "        #print(\"Your voice is not clear\")\n",
    "        messagebox.showerror(\"error\",\"Your voice is not clear\")\n",
    "\n",
    "text.lower()\n",
    "\n",
    "try:\n",
    "    for l in text:\n",
    "        if l is not ' ':\n",
    "            img=imageio.imread(path+str(l)+'.jpg')\n",
    "            display(img,l)\n",
    "except:\n",
    "    messagebox.showerror(\"error\",\"There was an error reading the input\")\n"
   ]
  }
 ],
 "metadata": {
  "kernelspec": {
   "display_name": "Python 3 (ipykernel)",
   "language": "python",
   "name": "python3"
  },
  "language_info": {
   "codemirror_mode": {
    "name": "ipython",
    "version": 3
   },
   "file_extension": ".py",
   "mimetype": "text/x-python",
   "name": "python",
   "nbconvert_exporter": "python",
   "pygments_lexer": "ipython3",
   "version": "3.7.1"
  }
 },
 "nbformat": 4,
 "nbformat_minor": 5
}
