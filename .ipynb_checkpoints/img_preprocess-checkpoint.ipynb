{
 "cells": [
  {
   "cell_type": "code",
   "execution_count": 1,
   "id": "50e3b5f8",
   "metadata": {},
   "outputs": [
    {
     "name": "stdout",
     "output_type": "stream",
     "text": [
      "Collecting imageio\n",
      "  Downloading imageio-2.24.0-py3-none-any.whl (3.4 MB)\n",
      "     ---------------------------------------- 3.4/3.4 MB 13.5 kB/s eta 0:00:00\n",
      "Requirement already satisfied: numpy in c:\\users\\sandeep roy\\appdata\\local\\programs\\python\\python311\\lib\\site-packages (from imageio) (1.24.1)\n",
      "Requirement already satisfied: pillow>=8.3.2 in c:\\users\\sandeep roy\\appdata\\local\\programs\\python\\python311\\lib\\site-packages (from imageio) (9.4.0)\n",
      "Installing collected packages: imageio\n",
      "Successfully installed imageio-2.24.0\n"
     ]
    }
   ],
   "source": [
    "!pip install imageio"
   ]
  },
  {
   "cell_type": "code",
   "execution_count": 11,
   "id": "e3e3b4ac",
   "metadata": {},
   "outputs": [],
   "source": [
    "#Importing the required libraries\n",
    "\n",
    "import os\n",
    "import numpy as np\n",
    "import matplotlib.pyplot as plt\n",
    "import matplotlib.image as mpimg\n",
    "import cv2\n",
    "import imageio\n",
    "import imageio.v2 as imageio"
   ]
  },
  {
   "cell_type": "code",
   "execution_count": 12,
   "id": "71f01f0f",
   "metadata": {},
   "outputs": [],
   "source": [
    "\n",
    "# Set path to dataset images\n",
    "\n",
    "image_path='C:/Users/Sandeep Roy/Desktop/data2/data/'"
   ]
  },
  {
   "cell_type": "code",
   "execution_count": 13,
   "id": "ce952351",
   "metadata": {},
   "outputs": [],
   "source": [
    "# Load folder into array-image_files and return the array \n",
    "\n",
    "def loadImages(path,label): \n",
    "  image_files=sorted([os.path.join(path,label,file)\n",
    "   for file in os.listdir(path+str('/')+label) if file.endswith('.jpg')\n",
    "  ])\n",
    "  return image_files"
   ]
  },
  {
   "cell_type": "code",
   "execution_count": 14,
   "id": "a28a4224",
   "metadata": {},
   "outputs": [],
   "source": [
    "# Function to display images\n",
    "\n",
    "def display(img,title=\"Original\"):\n",
    "    plt.imshow(img,cmap='gray'),plt.title(title)\n",
    "    plt.show()"
   ]
  },
  {
   "cell_type": "code",
   "execution_count": 15,
   "id": "d972b26b",
   "metadata": {},
   "outputs": [],
   "source": [
    "# Preprocessing all the images to extract ROI i.e. hands\n",
    "\n",
    "def preprocess_images(data,label):\n",
    "    count=0\n",
    "    for image in data:\n",
    "        \n",
    "        #reading image\n",
    "        img=imageio.imread(image)\n",
    "        \n",
    "        #Converting image to grayscale\n",
    "        gray_img=cv2.cvtColor(img,cv2.COLOR_RGB2GRAY)\n",
    "        \n",
    "        #Converting image to HSV format\n",
    "        hsv_img=cv2.cvtColor(img,cv2.COLOR_RGB2HSV)\n",
    "        \n",
    "        #Defining boundary level for skin color in HSV\n",
    "        skin_color_lower= np.array([0,40,30],np.uint8)\n",
    "        skin_color_upper= np.array([43,255,255],np.uint8)\n",
    "        \n",
    "        #Producing mask\n",
    "        skin_mask=cv2.inRange(hsv_img,skin_color_lower,skin_color_upper)\n",
    "        \n",
    "        #Removing Noise from mask\n",
    "        skin_mask=cv2.medianBlur(skin_mask,5)\n",
    "        skin_mask=cv2.addWeighted(skin_mask,0.5,skin_mask,0.5,0.0)\n",
    "        \n",
    "        #Applying Morphological operations\n",
    "        kernel=np.ones((5,5),np.uint8)\n",
    "        skin_mask=cv2.morphologyEx(skin_mask,cv2.MORPH_CLOSE,kernel)\n",
    "        \n",
    "        #Extracting hand by applying mask\n",
    "        hand=cv2.bitwise_and(gray_img,gray_img,mask=skin_mask)\n",
    "        \n",
    "        #Get edges by Canny edge detection\n",
    "        canny=cv2.Canny(hand,60,60)\n",
    "        \n",
    "        #save preprocessed images\n",
    "        path='C:/Users/Sandeep Roy/Desktop/data2/ISL Recognition/preprocessedImages/'\n",
    "        final_path=path+label+str('/')+str(count)+str('.png')\n",
    "        cv2.imwrite(final_path,canny)\n",
    "        count+=1"
   ]
  },
  {
   "cell_type": "code",
   "execution_count": 16,
   "id": "b9c56fea",
   "metadata": {},
   "outputs": [],
   "source": [
    "# Getting path to all images and preprocessing the images\n",
    "\n",
    "signs=['1','2','3','4','5','6','7','8','9','A','B','C','D','E','F','G','H','I','J','K','L','M','N','O','P','Q','R','S','T','U','V','W','X','Y','Z']\n",
    "for label in signs:\n",
    "    images=[]\n",
    "    images=loadImages(image_path,label)\n",
    "    preprocess_images(images,label)"
   ]
  },
  {
   "cell_type": "code",
   "execution_count": null,
   "id": "c03d7cad",
   "metadata": {},
   "outputs": [],
   "source": []
  }
 ],
 "metadata": {
  "kernelspec": {
   "display_name": "Python 3 (ipykernel)",
   "language": "python",
   "name": "python3"
  },
  "language_info": {
   "codemirror_mode": {
    "name": "ipython",
    "version": 3
   },
   "file_extension": ".py",
   "mimetype": "text/x-python",
   "name": "python",
   "nbconvert_exporter": "python",
   "pygments_lexer": "ipython3",
   "version": "3.11.1"
  }
 },
 "nbformat": 4,
 "nbformat_minor": 5
}
