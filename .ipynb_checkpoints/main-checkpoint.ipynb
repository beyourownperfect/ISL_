{
 "cells": [
  {
   "cell_type": "code",
   "execution_count": null,
   "id": "2cc2911b",
   "metadata": {},
   "outputs": [],
   "source": []
  },
  {
   "cell_type": "code",
   "execution_count": 1,
   "id": "3d45b3c3",
   "metadata": {},
   "outputs": [
    {
     "ename": "SyntaxError",
     "evalue": "invalid syntax (1021385141.py, line 19)",
     "output_type": "error",
     "traceback": [
      "\u001b[1;36m  File \u001b[1;32m\"C:\\Users\\Sandeep Roy\\AppData\\Local\\Temp\\ipykernel_9972\\1021385141.py\"\u001b[1;36m, line \u001b[1;32m19\u001b[0m\n\u001b[1;33m    from Reverse_Recognition import\u001b[0m\n\u001b[1;37m                                    ^\u001b[0m\n\u001b[1;31mSyntaxError\u001b[0m\u001b[1;31m:\u001b[0m invalid syntax\n"
     ]
    }
   ],
   "source": [
    "from tkinter import *\n",
    "import pandas as pd\n",
    "import tkinter as tk\n",
    "from playsound import playsound\n",
    "from PIL import Image, ImageTk\n",
    "import numpy as np\n",
    "from tkinter import ttk\n",
    "import sqlite3\n",
    "import cv2\n",
    "from PIL import Image\n",
    "import os\n",
    "import xlsxwriter\n",
    "from datetime import date\n",
    "from tkinter import messagebox\n",
    "import sys\n",
    "import random\n",
    "from creating_dataset import cd_main\n",
    "from Prediction import pred_main\n",
    "from Reverse_Recognition import rr_main"
   ]
  },
  {
   "cell_type": "code",
   "execution_count": null,
   "id": "254b49b8",
   "metadata": {},
   "outputs": [],
   "source": []
  }
 ],
 "metadata": {
  "kernelspec": {
   "display_name": "Python 3 (ipykernel)",
   "language": "python",
   "name": "python3"
  },
  "language_info": {
   "codemirror_mode": {
    "name": "ipython",
    "version": 3
   },
   "file_extension": ".py",
   "mimetype": "text/x-python",
   "name": "python",
   "nbconvert_exporter": "python",
   "pygments_lexer": "ipython3",
   "version": "3.7.1"
  }
 },
 "nbformat": 4,
 "nbformat_minor": 5
}
